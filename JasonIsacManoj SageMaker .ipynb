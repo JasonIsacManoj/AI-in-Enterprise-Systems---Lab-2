{
 "cells": [
  {
   "cell_type": "code",
   "execution_count": 4,
   "metadata": {},
   "outputs": [
    {
     "name": "stdout",
     "output_type": "stream",
     "text": [
      "Type a number: 10\n",
      "Type another number: 5\n",
      "The sum is:  15\n",
      "The product is:  50\n",
      "The subtraction is:  5\n",
      "The division is:  2.0\n"
     ]
    }
   ],
   "source": [
    "x = input(\"Type a number: \")\n",
    "y = input(\"Type another number: \")\n",
    "\n",
    "sum = int(x) + int(y)\n",
    "product = int(x) * int(y)\n",
    "subtraction = int(x) - int(y)\n",
    "division = int(x) / int(y)\n",
    "\n",
    "print(\"The sum is: \", sum)\n",
    "print(\"The product is: \", product)\n",
    "print(\"The subtraction is: \", subtraction)\n",
    "print(\"The division is: \", division)"
   ]
  },
  {
   "cell_type": "code",
   "execution_count": null,
   "metadata": {},
   "outputs": [],
   "source": []
  }
 ],
 "metadata": {
  "kernelspec": {
   "display_name": "conda_python3",
   "language": "python",
   "name": "conda_python3"
  },
  "language_info": {
   "codemirror_mode": {
    "name": "ipython",
    "version": 3
   },
   "file_extension": ".py",
   "mimetype": "text/x-python",
   "name": "python",
   "nbconvert_exporter": "python",
   "pygments_lexer": "ipython3",
   "version": "3.6.10"
  }
 },
 "nbformat": 4,
 "nbformat_minor": 4
}
